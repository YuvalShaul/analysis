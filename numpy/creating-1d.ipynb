{
 "cells": [
  {
   "cell_type": "code",
   "execution_count": null,
   "metadata": {
    "vscode": {
     "languageId": "plaintext"
    }
   },
   "outputs": [
    {
     "name": "stdout",
     "output_type": "stream",
     "text": [
      "simple 1,2,3:     [1 2 3]\n",
      "zeros:            [0. 0. 0. 0. 0.]\n",
      "ones: \n",
      " [[1. 1. 1.]\n",
      " [1. 1. 1.]]\n",
      "arange:          [0 2 4 6 8]\n",
      "linspace:          [0.   0.25 0.5  0.75 1.  ]\n",
      "random: \n",
      " [[0.57261418 0.79479109 0.5500778 ]\n",
      " [0.89245915 0.28604673 0.458257  ]\n",
      " [0.78958864 0.68018237 0.48445201]]\n"
     ]
    }
   ],
   "source": [
    "import numpy as np\n",
    "\n",
    "# From Python list\n",
    "arr = np.array([1, 2, 3])\n",
    "print('simple 1,2,3:    ', arr)\n",
    "\n",
    "# Built-in methods\n",
    "# Make 5 zeros\n",
    "zeros = np.zeros(5)         # [0. 0. 0. 0. 0.]\n",
    "print('zeros:           ', zeros)\n",
    "\n",
    "# Make 2x3 one matrix\n",
    "ones = np.ones((2, 3))      # 2x3 matrix of ones\n",
    "print('ones: \\n' , ones)\n",
    "\n",
    "#\n",
    "arange = np.arange(0, 10, 2)  # [0 2 4 6 8]\n",
    "print('arange:         ', arange)\n",
    "linspace = np.linspace(0, 1, 5)  # 5 evenly spaced numbers\n",
    "print('linspace:         ', linspace)\n",
    "\n",
    "# Random arrays\n",
    "random = np.random.rand(3, 3)  # 3x3 random matrix\n",
    "print('random: \\n', random)"
   ]
  }
 ],
 "metadata": {
  "kernelspec": {
   "display_name": "Python 3 (ipykernel)",
   "language": "python",
   "name": "python3"
  },
  "language_info": {
   "codemirror_mode": {
    "name": "ipython",
    "version": 3
   },
   "file_extension": ".py",
   "mimetype": "text/x-python",
   "name": "python",
   "nbconvert_exporter": "python",
   "pygments_lexer": "ipython3",
   "version": "3.13.0"
  }
 },
 "nbformat": 4,
 "nbformat_minor": 4
}
