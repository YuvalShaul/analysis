{
 "cells": [
  {
   "cell_type": "code",
   "execution_count": 7,
   "id": "0d01857c-36ad-4a4d-b5a4-720b5f914b36",
   "metadata": {},
   "outputs": [],
   "source": [
    "import numpy as np"
   ]
  },
  {
   "cell_type": "code",
   "execution_count": 8,
   "id": "6250d622-6666-49af-b5b0-23d2af52d8a4",
   "metadata": {},
   "outputs": [
    {
     "name": "stdout",
     "output_type": "stream",
     "text": [
      "Basic int8 array: [1 2 3]\n",
      "Data type: int8\n"
     ]
    }
   ],
   "source": [
    "# Create int8 arrays\n",
    "x = np.array([1, 2, 3], dtype=np.int8)\n",
    "print(f\"Basic int8 array: {x}\")\n",
    "print(f\"Data type: {x.dtype}\")\n",
    "\n"
   ]
  },
  {
   "cell_type": "code",
   "execution_count": 9,
   "id": "681f86d3-b8ef-4425-a133-dd3b880766ef",
   "metadata": {},
   "outputs": [
    {
     "name": "stdout",
     "output_type": "stream",
     "text": [
      "max:  127  min:  -128\n"
     ]
    }
   ],
   "source": [
    "# Demonstrate range limits\n",
    "max_int8 = np.iinfo(np.int8).max  # 127\n",
    "min_int8 = np.iinfo(np.int8).min  # -128\n",
    "print('max: ', max_int8, ' min: ', min_int8)\n"
   ]
  },
  {
   "cell_type": "code",
   "execution_count": 10,
   "id": "63c0e0cb-13e1-480f-93dc-d2bbe7cad7e0",
   "metadata": {},
   "outputs": [
    {
     "ename": "OverflowError",
     "evalue": "Python integer 128 out of bounds for int8",
     "output_type": "error",
     "traceback": [
      "\u001b[1;31m---------------------------------------------------------------------------\u001b[0m",
      "\u001b[1;31mOverflowError\u001b[0m                             Traceback (most recent call last)",
      "Cell \u001b[1;32mIn[10], line 2\u001b[0m\n\u001b[0;32m      1\u001b[0m \u001b[38;5;66;03m# Show overflow behavior\u001b[39;00m\n\u001b[1;32m----> 2\u001b[0m overflow_array \u001b[38;5;241m=\u001b[39m \u001b[43mnp\u001b[49m\u001b[38;5;241;43m.\u001b[39;49m\u001b[43marray\u001b[49m\u001b[43m(\u001b[49m\u001b[43m[\u001b[49m\u001b[38;5;241;43m127\u001b[39;49m\u001b[43m,\u001b[49m\u001b[43m \u001b[49m\u001b[38;5;241;43m128\u001b[39;49m\u001b[43m,\u001b[49m\u001b[43m \u001b[49m\u001b[38;5;241;43m129\u001b[39;49m\u001b[43m]\u001b[49m\u001b[43m,\u001b[49m\u001b[43m \u001b[49m\u001b[43mdtype\u001b[49m\u001b[38;5;241;43m=\u001b[39;49m\u001b[43mnp\u001b[49m\u001b[38;5;241;43m.\u001b[39;49m\u001b[43mint8\u001b[49m\u001b[43m)\u001b[49m\n\u001b[0;32m      3\u001b[0m \u001b[38;5;28mprint\u001b[39m(\u001b[38;5;124mf\u001b[39m\u001b[38;5;124m\"\u001b[39m\u001b[38;5;130;01m\\n\u001b[39;00m\u001b[38;5;124mOverflow example: \u001b[39m\u001b[38;5;132;01m{\u001b[39;00moverflow_array\u001b[38;5;132;01m}\u001b[39;00m\u001b[38;5;124m\"\u001b[39m)  \u001b[38;5;66;03m# [127, -128, -127]\u001b[39;00m\n",
      "\u001b[1;31mOverflowError\u001b[0m: Python integer 128 out of bounds for int8"
     ]
    }
   ],
   "source": [
    "# Show overflow behavior\n",
    "overflow_array = np.array([127, 128, 129], dtype=np.int8)\n",
    "print(f\"\\nOverflow example: {overflow_array}\")  # [127, -128, -127]\n",
    "\n"
   ]
  },
  {
   "cell_type": "code",
   "execution_count": 11,
   "id": "c63d5e4f-50ee-4227-be28-d695e369c2ec",
   "metadata": {},
   "outputs": [
    {
     "name": "stdout",
     "output_type": "stream",
     "text": [
      "Bytes per element: 1\n"
     ]
    }
   ],
   "source": [
    "# Memory size\n",
    "print(f\"Bytes per element: {x.itemsize}\")  # 1 byte per element"
   ]
  }
 ],
 "metadata": {
  "kernelspec": {
   "display_name": "Python 3 (ipykernel)",
   "language": "python",
   "name": "python3"
  },
  "language_info": {
   "codemirror_mode": {
    "name": "ipython",
    "version": 3
   },
   "file_extension": ".py",
   "mimetype": "text/x-python",
   "name": "python",
   "nbconvert_exporter": "python",
   "pygments_lexer": "ipython3",
   "version": "3.13.0"
  }
 },
 "nbformat": 4,
 "nbformat_minor": 5
}
