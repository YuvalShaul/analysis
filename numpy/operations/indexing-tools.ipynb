{
 "cells": [
  {
   "cell_type": "code",
   "execution_count": 1,
   "id": "ea1a8b05-46a7-46c2-bebd-659c2a7b21de",
   "metadata": {},
   "outputs": [],
   "source": [
    "import numpy as np"
   ]
  },
  {
   "cell_type": "code",
   "execution_count": 2,
   "id": "8513de22-3aa8-44a4-9345-1e91c6ff4f4c",
   "metadata": {},
   "outputs": [
    {
     "name": "stdout",
     "output_type": "stream",
     "text": [
      "3d:\n",
      " [[[ 1  2  3]\n",
      "  [ 4  5  6]]\n",
      "\n",
      " [[ 7  8  9]\n",
      "  [10 11 12]]\n",
      "\n",
      " [[13 14 15]\n",
      "  [16 17 18]]\n",
      "\n",
      " [[23 24 25]\n",
      "  [26 27 28]]]  shape:  (4, 2, 3)\n"
     ]
    }
   ],
   "source": [
    "arr = np.array([ \n",
    "    [[1, 2, 3], [4, 5, 6]],\n",
    "    [[7, 8, 9], [10, 11, 12]],\n",
    "    [[13, 14, 15], [16, 17, 18]],\n",
    "    [[23, 24, 25], [26, 27, 28]]])\n",
    "print('3d:\\n', arr, ' shape: ', arr.shape)"
   ]
  },
  {
   "cell_type": "markdown",
   "id": "acedef6f-44c2-4cb4-abcc-3309440e92c5",
   "metadata": {},
   "source": [
    "### Ellipsis\n",
    "Expands to the number of : objects needed for the selection tuple to index all dimensions"
   ]
  },
  {
   "cell_type": "code",
   "execution_count": 3,
   "id": "50c2b65c-efa8-44d4-9e90-267cbaae4c5d",
   "metadata": {},
   "outputs": [
    {
     "data": {
      "text/plain": [
       "array([[ 1,  4],\n",
       "       [ 7, 10],\n",
       "       [13, 16],\n",
       "       [23, 26]])"
      ]
     },
     "execution_count": 3,
     "metadata": {},
     "output_type": "execute_result"
    }
   ],
   "source": [
    "#This...\n",
    "arr[...,0]"
   ]
  },
  {
   "cell_type": "code",
   "execution_count": 4,
   "id": "4aaca6ce-35da-4c5a-a069-3666a6e77168",
   "metadata": {},
   "outputs": [
    {
     "data": {
      "text/plain": [
       "array([[ 1,  4],\n",
       "       [ 7, 10],\n",
       "       [13, 16],\n",
       "       [23, 26]])"
      ]
     },
     "execution_count": 4,
     "metadata": {},
     "output_type": "execute_result"
    }
   ],
   "source": [
    "# Is equivalent to this:\n",
    "arr[:, :, 0]"
   ]
  }
 ],
 "metadata": {
  "kernelspec": {
   "display_name": "Python 3 (ipykernel)",
   "language": "python",
   "name": "python3"
  },
  "language_info": {
   "codemirror_mode": {
    "name": "ipython",
    "version": 3
   },
   "file_extension": ".py",
   "mimetype": "text/x-python",
   "name": "python",
   "nbconvert_exporter": "python",
   "pygments_lexer": "ipython3",
   "version": "3.13.0"
  }
 },
 "nbformat": 4,
 "nbformat_minor": 5
}
