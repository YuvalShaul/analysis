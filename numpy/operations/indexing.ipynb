{
 "cells": [
  {
   "cell_type": "code",
   "execution_count": 22,
   "id": "51e5be05-c460-4569-b702-8b4bb26ce247",
   "metadata": {},
   "outputs": [],
   "source": [
    "import numpy as np"
   ]
  },
  {
   "cell_type": "markdown",
   "id": "bd54b692-c9d0-4927-a081-df17dc24e486",
   "metadata": {},
   "source": [
    "## Single element indexing\n",
    "first 1d array:"
   ]
  },
  {
   "cell_type": "code",
   "execution_count": 23,
   "id": "ce046570-f6ee-4d44-b51f-1b36cb607909",
   "metadata": {},
   "outputs": [],
   "source": [
    "arr1d = np.arange(10)"
   ]
  },
  {
   "cell_type": "code",
   "execution_count": 24,
   "id": "015ee113-3820-4772-8114-386619c22857",
   "metadata": {},
   "outputs": [
    {
     "data": {
      "text/plain": [
       "np.int64(5)"
      ]
     },
     "execution_count": 24,
     "metadata": {},
     "output_type": "execute_result"
    }
   ],
   "source": [
    "arr1d[5]"
   ]
  },
  {
   "cell_type": "markdown",
   "id": "d100898a-4b67-483b-855a-c403a2e6d6e5",
   "metadata": {},
   "source": [
    "..then a 2d array:"
   ]
  },
  {
   "cell_type": "code",
   "execution_count": 25,
   "id": "7001365b-0f4b-4416-babd-23ba758bc6f9",
   "metadata": {},
   "outputs": [],
   "source": [
    "arr2d = np.array([[3, 4, 5],\n",
    "                  [6, 7,8]])"
   ]
  },
  {
   "cell_type": "code",
   "execution_count": 26,
   "id": "858304c3-99d6-45f7-bb17-83e1eb6fde38",
   "metadata": {},
   "outputs": [
    {
     "data": {
      "text/plain": [
       "np.int64(7)"
      ]
     },
     "execution_count": 26,
     "metadata": {},
     "output_type": "execute_result"
    }
   ],
   "source": [
    "arr2d[1,1]"
   ]
  },
  {
   "cell_type": "markdown",
   "id": "1710b379-d596-4239-8aab-d402072fd8b4",
   "metadata": {},
   "source": [
    "## Boolean indexing"
   ]
  },
  {
   "cell_type": "code",
   "execution_count": 27,
   "id": "57d0d42b-e5aa-4b2e-befa-bc967f696327",
   "metadata": {},
   "outputs": [
    {
     "name": "stdout",
     "output_type": "stream",
     "text": [
      "mask: \n",
      " [[False  True False]\n",
      " [ True False  True]]\n"
     ]
    }
   ],
   "source": [
    "# Creating a mask\n",
    "mask = ((arr2d % 2) == 0)\n",
    "print('mask: \\n', mask)"
   ]
  },
  {
   "cell_type": "code",
   "execution_count": 28,
   "id": "fef85e16-aec8-4b3d-9836-24aa0faae6bd",
   "metadata": {},
   "outputs": [
    {
     "name": "stdout",
     "output_type": "stream",
     "text": [
      "arr[mask]:\n",
      " [4 6 8]\n"
     ]
    }
   ],
   "source": [
    "# Boolean indexing\n",
    "arr2d[mask]     # [4 5 6]\n",
    "print('arr[mask]:\\n', arr2d[mask])"
   ]
  }
 ],
 "metadata": {
  "kernelspec": {
   "display_name": "Python 3 (ipykernel)",
   "language": "python",
   "name": "python3"
  },
  "language_info": {
   "codemirror_mode": {
    "name": "ipython",
    "version": 3
   },
   "file_extension": ".py",
   "mimetype": "text/x-python",
   "name": "python",
   "nbconvert_exporter": "python",
   "pygments_lexer": "ipython3",
   "version": "3.13.0"
  }
 },
 "nbformat": 4,
 "nbformat_minor": 5
}
