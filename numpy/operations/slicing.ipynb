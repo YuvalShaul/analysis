{
 "cells": [
  {
   "cell_type": "code",
   "execution_count": null,
   "id": "537f1b58-0a42-48cc-8979-6f16625a3cd9",
   "metadata": {},
   "outputs": [],
   "source": []
  },
  {
   "cell_type": "code",
   "execution_count": 2,
   "id": "ad033584-2823-4967-bddd-bca5f23c7a40",
   "metadata": {},
   "outputs": [],
   "source": [
    "import numpy as np"
   ]
  },
  {
   "cell_type": "markdown",
   "id": "6942249a-242c-4496-94ee-ed2d147b87e7",
   "metadata": {},
   "source": [
    "## Single element indexing"
   ]
  },
  {
   "cell_type": "code",
   "execution_count": 5,
   "id": "aacd980f-53ae-4985-9892-fe2e2f3ff7ab",
   "metadata": {},
   "outputs": [],
   "source": [
    "arr1d = np.arange(10)"
   ]
  },
  {
   "cell_type": "code",
   "execution_count": 6,
   "id": "f8acbd46-6fc3-4bf7-8282-48db4844ae4d",
   "metadata": {},
   "outputs": [
    {
     "data": {
      "text/plain": [
       "np.int64(5)"
      ]
     },
     "execution_count": 6,
     "metadata": {},
     "output_type": "execute_result"
    }
   ],
   "source": [
    "arr1d[5]"
   ]
  },
  {
   "cell_type": "code",
   "execution_count": 8,
   "id": "d021e25b-3421-4933-9a70-78f361a76710",
   "metadata": {},
   "outputs": [],
   "source": [
    "arr2d = np.array([[3, 4, 5],[6, 7,8]])"
   ]
  },
  {
   "cell_type": "code",
   "execution_count": 9,
   "id": "7c8a0dfc-85f7-4888-8fa0-0f8837f0ba1b",
   "metadata": {},
   "outputs": [
    {
     "data": {
      "text/plain": [
       "np.int64(7)"
      ]
     },
     "execution_count": 9,
     "metadata": {},
     "output_type": "execute_result"
    }
   ],
   "source": [
    "arr2d[1,1]"
   ]
  },
  {
   "cell_type": "markdown",
   "id": "080c439e-44ea-4462-9e2b-358065a99d5c",
   "metadata": {},
   "source": [
    "## Slicing"
   ]
  },
  {
   "cell_type": "code",
   "execution_count": 3,
   "id": "bf1abb30-3a19-477e-bc7d-fd919013b6d6",
   "metadata": {},
   "outputs": [],
   "source": [
    "arr = np.array([[1, 2, 3], \n",
    "                [4, 5, 6]])\n",
    "\n"
   ]
  },
  {
   "cell_type": "code",
   "execution_count": 4,
   "id": "31ec8b56-185e-436d-a7ed-e9e2cb0ea256",
   "metadata": {},
   "outputs": [
    {
     "data": {
      "text/plain": [
       "np.int64(2)"
      ]
     },
     "execution_count": 4,
     "metadata": {},
     "output_type": "execute_result"
    }
   ],
   "source": [
    "arr[0, 1]     # 2\n"
   ]
  },
  {
   "cell_type": "code",
   "execution_count": 5,
   "id": "8804b6e8-87eb-48c3-a67a-c1765e46ea01",
   "metadata": {},
   "outputs": [
    {
     "data": {
      "text/plain": [
       "array([2, 5])"
      ]
     },
     "execution_count": 5,
     "metadata": {},
     "output_type": "execute_result"
    }
   ],
   "source": [
    "arr[:, 1]     # [2 5] (second column)\n"
   ]
  },
  {
   "cell_type": "code",
   "execution_count": 6,
   "id": "9b060eee-c5e9-4ae6-b4f9-d92d780fe0ba",
   "metadata": {},
   "outputs": [
    {
     "data": {
      "text/plain": [
       "array([4, 5, 6])"
      ]
     },
     "execution_count": 6,
     "metadata": {},
     "output_type": "execute_result"
    }
   ],
   "source": [
    "arr[1, :]     # [4 5 6] (second row)\n",
    "\n"
   ]
  },
  {
   "cell_type": "code",
   "execution_count": 7,
   "id": "f2abb6f1-3930-45ba-af18-113ebab47673",
   "metadata": {},
   "outputs": [
    {
     "name": "stdout",
     "output_type": "stream",
     "text": [
      "mask: \n",
      " [[False  True False]\n",
      " [ True False  True]]\n",
      "arr[mask]:\n",
      " [2 4 6]\n"
     ]
    }
   ],
   "source": [
    "# Boolean indexing\n",
    "mask = ((arr % 2) == 0)\n",
    "print('mask: \\n', mask)\n",
    "arr[mask]     # [4 5 6]\n",
    "print('arr[mask]:\\n', arr[mask])"
   ]
  }
 ],
 "metadata": {
  "kernelspec": {
   "display_name": "Python 3 (ipykernel)",
   "language": "python",
   "name": "python3"
  },
  "language_info": {
   "codemirror_mode": {
    "name": "ipython",
    "version": 3
   },
   "file_extension": ".py",
   "mimetype": "text/x-python",
   "name": "python",
   "nbconvert_exporter": "python",
   "pygments_lexer": "ipython3",
   "version": "3.13.0"
  }
 },
 "nbformat": 4,
 "nbformat_minor": 5
}
