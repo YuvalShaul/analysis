{
 "cells": [
  {
   "cell_type": "code",
   "execution_count": 2,
   "id": "51e5be05-c460-4569-b702-8b4bb26ce247",
   "metadata": {},
   "outputs": [],
   "source": [
    "import numpy as np"
   ]
  },
  {
   "cell_type": "code",
   "execution_count": 3,
   "id": "e461361b-8851-451d-b485-58a0afac9c45",
   "metadata": {},
   "outputs": [],
   "source": [
    "arr = np.array([[1, 2, 3], \n",
    "                [4, 5, 6]])\n",
    "\n"
   ]
  },
  {
   "cell_type": "code",
   "execution_count": 4,
   "id": "6b95fa7c-6885-4aa5-b31b-9411d70c28df",
   "metadata": {},
   "outputs": [
    {
     "data": {
      "text/plain": [
       "np.int64(2)"
      ]
     },
     "execution_count": 4,
     "metadata": {},
     "output_type": "execute_result"
    }
   ],
   "source": [
    "arr[0, 1]     # 2\n"
   ]
  },
  {
   "cell_type": "code",
   "execution_count": 5,
   "id": "8556158b-3889-4c71-9e42-4ef6430c8fc0",
   "metadata": {},
   "outputs": [
    {
     "data": {
      "text/plain": [
       "array([2, 5])"
      ]
     },
     "execution_count": 5,
     "metadata": {},
     "output_type": "execute_result"
    }
   ],
   "source": [
    "arr[:, 1]     # [2 5] (second column)\n"
   ]
  },
  {
   "cell_type": "code",
   "execution_count": 6,
   "id": "8077ec90-2cc2-4133-8b34-f61817bebb68",
   "metadata": {},
   "outputs": [
    {
     "data": {
      "text/plain": [
       "array([4, 5, 6])"
      ]
     },
     "execution_count": 6,
     "metadata": {},
     "output_type": "execute_result"
    }
   ],
   "source": [
    "arr[1, :]     # [4 5 6] (second row)\n",
    "\n"
   ]
  },
  {
   "cell_type": "code",
   "execution_count": 7,
   "id": "fef85e16-aec8-4b3d-9836-24aa0faae6bd",
   "metadata": {},
   "outputs": [
    {
     "name": "stdout",
     "output_type": "stream",
     "text": [
      "mask: \n",
      " [[False  True False]\n",
      " [ True False  True]]\n",
      "arr[mask]:\n",
      " [2 4 6]\n"
     ]
    }
   ],
   "source": [
    "# Boolean indexing\n",
    "mask = ((arr % 2) == 0)\n",
    "print('mask: \\n', mask)\n",
    "arr[mask]     # [4 5 6]\n",
    "print('arr[mask]:\\n', arr[mask])"
   ]
  }
 ],
 "metadata": {
  "kernelspec": {
   "display_name": "Python 3 (ipykernel)",
   "language": "python",
   "name": "python3"
  },
  "language_info": {
   "codemirror_mode": {
    "name": "ipython",
    "version": 3
   },
   "file_extension": ".py",
   "mimetype": "text/x-python",
   "name": "python",
   "nbconvert_exporter": "python",
   "pygments_lexer": "ipython3",
   "version": "3.13.0"
  }
 },
 "nbformat": 4,
 "nbformat_minor": 5
}
