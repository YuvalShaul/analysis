{
 "cells": [
  {
   "cell_type": "markdown",
   "metadata": {},
   "source": [
    "# arange(start, stop, step): excludes stop\n",
    "np.arange(0, 1, 0.2)    # [0.  0.2  0.4  0.6  0.8]\n",
    "# Can have floating-point errors\n",
    "np.arange(0, 1, 0.3)    # [0.  0.3  0.6  0.9]  # misses 1.0"
   ]
  },
  {
   "cell_type": "markdown",
   "metadata": {},
   "source": [
    "## numpy arange function\n",
    "**numpy.arange([start, ]stop, [step, ]dtype=None, *, device=None, like=None)**"
   ]
  },
  {
   "cell_type": "markdown",
   "metadata": {},
   "source": [
    "# Can have floating-point errors\n",
    "np.arange(0, 1, 0.3)    # [0.  0.3  0.6  0.9]  # misses 1.0"
   ]
  }
 ],
 "metadata": {
  "language_info": {
   "name": "python"
  }
 },
 "nbformat": 4,
 "nbformat_minor": 2
}
